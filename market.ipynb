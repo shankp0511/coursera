{
 "cells": [
  {
   "cell_type": "code",
   "execution_count": 1,
   "metadata": {},
   "outputs": [
    {
     "name": "stderr",
     "output_type": "stream",
     "text": [
      "usage: conda-script.py [-h] [-V] command ...\n",
      "conda-script.py: error: unrecognized arguments: # uncomment this line if you haven't completed the Foursquare API lab\n"
     ]
    },
    {
     "name": "stdout",
     "output_type": "stream",
     "text": [
      "Collecting package metadata (current_repodata.json): ...working... done\n",
      "Solving environment: ...working... done\n",
      "\n",
      "## Package Plan ##\n",
      "\n",
      "  environment location: C:\\Users\\sreedevi prakash\\anaconda3\n",
      "\n",
      "  added / updated specs:\n",
      "    - seaborn\n",
      "\n",
      "\n",
      "The following packages will be SUPERSEDED by a higher-priority channel:\n",
      "\n",
      "  conda              conda-forge::conda-4.8.3-py37hc8dfbb8~ --> anaconda::conda-4.8.3-py37_0\n",
      "\n",
      "\n",
      "Preparing transaction: ...working... done\n",
      "Verifying transaction: ...working... done\n",
      "Executing transaction: ...working... done\n"
     ]
    },
    {
     "name": "stderr",
     "output_type": "stream",
     "text": [
      "usage: conda-script.py [-h] [-V] command ...\n",
      "conda-script.py: error: unrecognized arguments: # uncomment this line if you haven't completed the Foursquare API lab\n"
     ]
    },
    {
     "name": "stdout",
     "output_type": "stream",
     "text": [
      "Libraries imported.\n"
     ]
    }
   ],
   "source": [
    "import numpy as np # library to handle data in a vectorized manner\n",
    "\n",
    "import pandas as pd # library for data analsysis\n",
    "pd.set_option('display.max_columns', None)\n",
    "pd.set_option('display.max_rows', None)\n",
    "\n",
    "import json # library to handle JSON files\n",
    "\n",
    "!conda install -c conda-forge geopy --yes # uncomment this line if you haven't completed the Foursquare API lab\n",
    "from geopy.geocoders import Nominatim # convert an address into latitude and longitude values\n",
    "\n",
    "import requests # library to handle requests\n",
    "from pandas.io.json import json_normalize # tranform JSON file into a pandas dataframe\n",
    "\n",
    "# Matplotlib and associated plotting modules\n",
    "import matplotlib.cm as cm\n",
    "import matplotlib.colors as colors\n",
    "import matplotlib.pyplot as plt\n",
    "from matplotlib.ticker import NullFormatter\n",
    "import matplotlib.ticker as ticker\n",
    "\n",
    "# notice: installing seaborn might takes a few minutes\n",
    "!conda install -c anaconda seaborn -y\n",
    "import seaborn as sns\n",
    "\n",
    "!conda install -c conda-forge folium=0.5.0 --yes # uncomment this line if you haven't completed the Foursquare API lab\n",
    "import folium # map rendering library\n",
    "\n",
    "print('Libraries imported.')"
   ]
  },
  {
   "cell_type": "code",
   "execution_count": 15,
   "metadata": {},
   "outputs": [
    {
     "name": "stdout",
     "output_type": "stream",
     "text": [
      "C:\\Users\\sreedevi prakash\\Desktop\n"
     ]
    }
   ],
   "source": [
    "import os\n",
    "path = os. getcwd() \n",
    "print(path)\n",
    "my_file = open(\"DOHMH_Farmers_Markets.csv\")\n",
    "\n",
    "# Read the CSV data file from the object storage into a pandas DataFrame\n",
    "my_file.seek(0)\n",
    "FM_NYC=pd.read_csv(my_file)\n"
   ]
  },
  {
   "cell_type": "code",
   "execution_count": 17,
   "metadata": {},
   "outputs": [
    {
     "data": {
      "text/html": [
       "<div>\n",
       "<style scoped>\n",
       "    .dataframe tbody tr th:only-of-type {\n",
       "        vertical-align: middle;\n",
       "    }\n",
       "\n",
       "    .dataframe tbody tr th {\n",
       "        vertical-align: top;\n",
       "    }\n",
       "\n",
       "    .dataframe thead th {\n",
       "        text-align: right;\n",
       "    }\n",
       "</style>\n",
       "<table border=\"1\" class=\"dataframe\">\n",
       "  <thead>\n",
       "    <tr style=\"text-align: right;\">\n",
       "      <th></th>\n",
       "      <th>Borough</th>\n",
       "      <th>Market Name</th>\n",
       "      <th>Street Address</th>\n",
       "      <th>Latitude</th>\n",
       "      <th>Longitude</th>\n",
       "      <th>Days of Operation</th>\n",
       "      <th>Hours of Operations</th>\n",
       "      <th>Season Dates</th>\n",
       "      <th>Accepts EBT</th>\n",
       "      <th>Open Year-Round</th>\n",
       "      <th>Stellar Cooking Demonstrations</th>\n",
       "      <th>Food Activities for Kids</th>\n",
       "      <th>Location Point</th>\n",
       "    </tr>\n",
       "  </thead>\n",
       "  <tbody>\n",
       "    <tr>\n",
       "      <th>0</th>\n",
       "      <td>Brooklyn</td>\n",
       "      <td>Woodhull Hospital Youthmarket</td>\n",
       "      <td>Broadway &amp; Flushing Ave</td>\n",
       "      <td>40.700726</td>\n",
       "      <td>-73.941932</td>\n",
       "      <td>Wednesday</td>\n",
       "      <td>9 a.m. - 2 p.m.</td>\n",
       "      <td>07/10/2019-11/27/2019</td>\n",
       "      <td>Yes</td>\n",
       "      <td>No</td>\n",
       "      <td>No</td>\n",
       "      <td>No</td>\n",
       "      <td>(40.700726, -73.941932)</td>\n",
       "    </tr>\n",
       "    <tr>\n",
       "      <th>1</th>\n",
       "      <td>Manhattan</td>\n",
       "      <td>Mount Sinai Hospital Greenmarket</td>\n",
       "      <td>E 99th St bet Madison &amp; Park Aves</td>\n",
       "      <td>40.789169</td>\n",
       "      <td>-73.952743</td>\n",
       "      <td>Wednesday</td>\n",
       "      <td>8 a.m. - 5 p.m.</td>\n",
       "      <td>06/12/19-11/27/19</td>\n",
       "      <td>Yes</td>\n",
       "      <td>No</td>\n",
       "      <td>No</td>\n",
       "      <td>No</td>\n",
       "      <td>(40.789169, -73.952743)</td>\n",
       "    </tr>\n",
       "    <tr>\n",
       "      <th>2</th>\n",
       "      <td>Bronx</td>\n",
       "      <td>170 Farm Stand</td>\n",
       "      <td>E 170th St &amp; Townsend Ave</td>\n",
       "      <td>40.839882</td>\n",
       "      <td>-73.916783</td>\n",
       "      <td>Wednesday</td>\n",
       "      <td>2:30 - 6:30 p.m.</td>\n",
       "      <td>07/10/2019-11/27/2019</td>\n",
       "      <td>Yes</td>\n",
       "      <td>No</td>\n",
       "      <td>No</td>\n",
       "      <td>Yes</td>\n",
       "      <td>(40.839882, -73.916783)</td>\n",
       "    </tr>\n",
       "    <tr>\n",
       "      <th>3</th>\n",
       "      <td>Manhattan</td>\n",
       "      <td>Greenmarket at Oculus Plaza</td>\n",
       "      <td>Church &amp; Fulton Sts, on Oculus Plaza</td>\n",
       "      <td>40.711535</td>\n",
       "      <td>-74.010464</td>\n",
       "      <td>Tuesday</td>\n",
       "      <td>7 a.m. - 7 p.m.</td>\n",
       "      <td>07/09/2019-11/30/19</td>\n",
       "      <td>Yes</td>\n",
       "      <td>Yes</td>\n",
       "      <td>No</td>\n",
       "      <td>No</td>\n",
       "      <td>(40.711535, -74.010464)</td>\n",
       "    </tr>\n",
       "    <tr>\n",
       "      <th>4</th>\n",
       "      <td>Queens</td>\n",
       "      <td>Ditmars Park Youthmarket</td>\n",
       "      <td>Steinway St bet Ditmars Blvd &amp; 23rd Ave, at Di...</td>\n",
       "      <td>40.772854</td>\n",
       "      <td>-73.906061</td>\n",
       "      <td>Saturday</td>\n",
       "      <td>8 a.m. - 3 p.m.</td>\n",
       "      <td>07/13/2019-11/23/2019</td>\n",
       "      <td>Yes</td>\n",
       "      <td>No</td>\n",
       "      <td>No</td>\n",
       "      <td>No</td>\n",
       "      <td>(40.772854, -73.906061)</td>\n",
       "    </tr>\n",
       "  </tbody>\n",
       "</table>\n",
       "</div>"
      ],
      "text/plain": [
       "     Borough                       Market Name  \\\n",
       "0   Brooklyn     Woodhull Hospital Youthmarket   \n",
       "1  Manhattan  Mount Sinai Hospital Greenmarket   \n",
       "2      Bronx                    170 Farm Stand   \n",
       "3  Manhattan       Greenmarket at Oculus Plaza   \n",
       "4     Queens          Ditmars Park Youthmarket   \n",
       "\n",
       "                                      Street Address   Latitude  Longitude  \\\n",
       "0                            Broadway & Flushing Ave  40.700726 -73.941932   \n",
       "1                  E 99th St bet Madison & Park Aves  40.789169 -73.952743   \n",
       "2                          E 170th St & Townsend Ave  40.839882 -73.916783   \n",
       "3               Church & Fulton Sts, on Oculus Plaza  40.711535 -74.010464   \n",
       "4  Steinway St bet Ditmars Blvd & 23rd Ave, at Di...  40.772854 -73.906061   \n",
       "\n",
       "  Days of Operation Hours of Operations           Season Dates Accepts EBT  \\\n",
       "0         Wednesday     9 a.m. - 2 p.m.  07/10/2019-11/27/2019         Yes   \n",
       "1         Wednesday     8 a.m. - 5 p.m.      06/12/19-11/27/19         Yes   \n",
       "2         Wednesday    2:30 - 6:30 p.m.  07/10/2019-11/27/2019         Yes   \n",
       "3           Tuesday     7 a.m. - 7 p.m.    07/09/2019-11/30/19         Yes   \n",
       "4          Saturday     8 a.m. - 3 p.m.  07/13/2019-11/23/2019         Yes   \n",
       "\n",
       "  Open Year-Round Stellar Cooking Demonstrations Food Activities for Kids  \\\n",
       "0              No                             No                       No   \n",
       "1              No                             No                       No   \n",
       "2              No                             No                      Yes   \n",
       "3             Yes                             No                       No   \n",
       "4              No                             No                       No   \n",
       "\n",
       "            Location Point  \n",
       "0  (40.700726, -73.941932)  \n",
       "1  (40.789169, -73.952743)  \n",
       "2  (40.839882, -73.916783)  \n",
       "3  (40.711535, -74.010464)  \n",
       "4  (40.772854, -73.906061)  "
      ]
     },
     "execution_count": 17,
     "metadata": {},
     "output_type": "execute_result"
    }
   ],
   "source": [
    "FM_NYC.head()"
   ]
  },
  {
   "cell_type": "code",
   "execution_count": 19,
   "metadata": {},
   "outputs": [
    {
     "name": "stdout",
     "output_type": "stream",
     "text": [
      "['Wednesday' 'Tuesday' 'Saturday' 'Tuesday & Friday' 'Sunday' 'Friday'\n",
      " 'Friday & Saturday' 'Thursday & Saturday' 'Tuesday &\\nThursday'\n",
      " 'Wednesday & Sunday' 'Wednesday & Saturday' 'Thursday'\n",
      " 'Tuesday, Thursday & Saturday'\n",
      " 'Wednesday, Thursday, Friday, Saturday & Sunday'\n",
      " 'Wednesday,\\nThursday & Friday' 'Tuesday &\\nFriday'\n",
      " 'Wednesday &\\nSaturday' 'Thursday & Sunday' 'Monday' 'Tuesday & Thursday'\n",
      " 'Tuesday &\\nSaturday' 'Wednesday & Friday'\n",
      " 'Monday,\\nWednesday,\\nFriday & Saturday']\n"
     ]
    }
   ],
   "source": [
    "FM_NYC.rename(columns={'Days of Operation':'Days_operation'}, inplace=True)\n",
    "print(FM_NYC.Days_operation.unique())"
   ]
  },
  {
   "cell_type": "code",
   "execution_count": 22,
   "metadata": {},
   "outputs": [
    {
     "data": {
      "text/html": [
       "<div>\n",
       "<style scoped>\n",
       "    .dataframe tbody tr th:only-of-type {\n",
       "        vertical-align: middle;\n",
       "    }\n",
       "\n",
       "    .dataframe tbody tr th {\n",
       "        vertical-align: top;\n",
       "    }\n",
       "\n",
       "    .dataframe thead th {\n",
       "        text-align: right;\n",
       "    }\n",
       "</style>\n",
       "<table border=\"1\" class=\"dataframe\">\n",
       "  <thead>\n",
       "    <tr style=\"text-align: right;\">\n",
       "      <th></th>\n",
       "      <th>Days_operation</th>\n",
       "    </tr>\n",
       "  </thead>\n",
       "  <tbody>\n",
       "    <tr>\n",
       "      <th>Saturday</th>\n",
       "      <td>39</td>\n",
       "    </tr>\n",
       "    <tr>\n",
       "      <th>Wednesday</th>\n",
       "      <td>22</td>\n",
       "    </tr>\n",
       "    <tr>\n",
       "      <th>Sunday</th>\n",
       "      <td>18</td>\n",
       "    </tr>\n",
       "    <tr>\n",
       "      <th>Thursday</th>\n",
       "      <td>16</td>\n",
       "    </tr>\n",
       "    <tr>\n",
       "      <th>Friday</th>\n",
       "      <td>11</td>\n",
       "    </tr>\n",
       "    <tr>\n",
       "      <th>Tuesday</th>\n",
       "      <td>10</td>\n",
       "    </tr>\n",
       "    <tr>\n",
       "      <th>Wednesday &amp; Saturday</th>\n",
       "      <td>4</td>\n",
       "    </tr>\n",
       "    <tr>\n",
       "      <th>Tuesday &amp; Friday</th>\n",
       "      <td>3</td>\n",
       "    </tr>\n",
       "    <tr>\n",
       "      <th>Wednesday &amp; Sunday</th>\n",
       "      <td>1</td>\n",
       "    </tr>\n",
       "    <tr>\n",
       "      <th>Tuesday &amp; Thursday</th>\n",
       "      <td>1</td>\n",
       "    </tr>\n",
       "    <tr>\n",
       "      <th>Tuesday &amp;\\nSaturday</th>\n",
       "      <td>1</td>\n",
       "    </tr>\n",
       "    <tr>\n",
       "      <th>Monday,\\nWednesday,\\nFriday &amp; Saturday</th>\n",
       "      <td>1</td>\n",
       "    </tr>\n",
       "    <tr>\n",
       "      <th>Tuesday, Thursday &amp; Saturday</th>\n",
       "      <td>1</td>\n",
       "    </tr>\n",
       "    <tr>\n",
       "      <th>Thursday &amp; Saturday</th>\n",
       "      <td>1</td>\n",
       "    </tr>\n",
       "    <tr>\n",
       "      <th>Wednesday &amp;\\nSaturday</th>\n",
       "      <td>1</td>\n",
       "    </tr>\n",
       "    <tr>\n",
       "      <th>Tuesday &amp;\\nFriday</th>\n",
       "      <td>1</td>\n",
       "    </tr>\n",
       "    <tr>\n",
       "      <th>Wednesday,\\nThursday &amp; Friday</th>\n",
       "      <td>1</td>\n",
       "    </tr>\n",
       "    <tr>\n",
       "      <th>Monday</th>\n",
       "      <td>1</td>\n",
       "    </tr>\n",
       "    <tr>\n",
       "      <th>Thursday &amp; Sunday</th>\n",
       "      <td>1</td>\n",
       "    </tr>\n",
       "    <tr>\n",
       "      <th>Tuesday &amp;\\nThursday</th>\n",
       "      <td>1</td>\n",
       "    </tr>\n",
       "    <tr>\n",
       "      <th>Friday &amp; Saturday</th>\n",
       "      <td>1</td>\n",
       "    </tr>\n",
       "    <tr>\n",
       "      <th>Wednesday, Thursday, Friday, Saturday &amp; Sunday</th>\n",
       "      <td>1</td>\n",
       "    </tr>\n",
       "    <tr>\n",
       "      <th>Wednesday &amp; Friday</th>\n",
       "      <td>1</td>\n",
       "    </tr>\n",
       "  </tbody>\n",
       "</table>\n",
       "</div>"
      ],
      "text/plain": [
       "                                                Days_operation\n",
       "Saturday                                                    39\n",
       "Wednesday                                                   22\n",
       "Sunday                                                      18\n",
       "Thursday                                                    16\n",
       "Friday                                                      11\n",
       "Tuesday                                                     10\n",
       "Wednesday & Saturday                                         4\n",
       "Tuesday & Friday                                             3\n",
       "Wednesday & Sunday                                           1\n",
       "Tuesday & Thursday                                           1\n",
       "Tuesday &\\nSaturday                                          1\n",
       "Monday,\\nWednesday,\\nFriday & Saturday                       1\n",
       "Tuesday, Thursday & Saturday                                 1\n",
       "Thursday & Saturday                                          1\n",
       "Wednesday &\\nSaturday                                        1\n",
       "Tuesday &\\nFriday                                            1\n",
       "Wednesday,\\nThursday & Friday                                1\n",
       "Monday                                                       1\n",
       "Thursday & Sunday                                            1\n",
       "Tuesday &\\nThursday                                          1\n",
       "Friday & Saturday                                            1\n",
       "Wednesday, Thursday, Friday, Saturday & Sunday               1\n",
       "Wednesday & Friday                                           1"
      ]
     },
     "execution_count": 22,
     "metadata": {},
     "output_type": "execute_result"
    }
   ],
   "source": [
    "FM_NYC['Days_operation'].value_counts().to_frame()"
   ]
  },
  {
   "cell_type": "code",
   "execution_count": 26,
   "metadata": {},
   "outputs": [
    {
     "data": {
      "image/png": "[encoded data removed]",
      "text/plain": [
       "<Figure size 1296x1296 with 1 Axes>"
      ]
     },
     "metadata": {
      "needs_background": "light"
     },
     "output_type": "display_data"
    }
   ],
   "source": [
    "fig,ax = plt.subplots(1, 1, figsize=(18, 18))\n",
    "sns.countplot(x='Days_operation',data=FM_NYC)\n",
    "ax.set_title(\"Operational days\")\n",
    "for t in ax.patches:\n",
    "    if (np.isnan(float(t.get_height()))):\n",
    "        ax.annotate('', (t.get_x(), 0))\n",
    "    else:\n",
    "        ax.annotate(str(format(int(t.get_height()), ',d')), (t.get_x(), t.get_height()*1.01))\n",
    "    \n",
    "plt.show();"
   ]
  },
  {
   "cell_type": "code",
   "execution_count": 23,
   "metadata": {},
   "outputs": [
    {
     "name": "stdout",
     "output_type": "stream",
     "text": [
      "['No' 'Yes' 'Yes (W)']\n"
     ]
    }
   ],
   "source": [
    "FM_NYC.rename(columns={'Open Year-Round':'Open_year_around'}, inplace=True)\n",
    "print(FM_NYC.Open_year_around.unique())"
   ]
  },
  {
   "cell_type": "code",
   "execution_count": 24,
   "metadata": {},
   "outputs": [
    {
     "data": {
      "text/html": [
       "<div>\n",
       "<style scoped>\n",
       "    .dataframe tbody tr th:only-of-type {\n",
       "        vertical-align: middle;\n",
       "    }\n",
       "\n",
       "    .dataframe tbody tr th {\n",
       "        vertical-align: top;\n",
       "    }\n",
       "\n",
       "    .dataframe thead th {\n",
       "        text-align: right;\n",
       "    }\n",
       "</style>\n",
       "<table border=\"1\" class=\"dataframe\">\n",
       "  <thead>\n",
       "    <tr style=\"text-align: right;\">\n",
       "      <th></th>\n",
       "      <th>Open_year_around</th>\n",
       "    </tr>\n",
       "  </thead>\n",
       "  <tbody>\n",
       "    <tr>\n",
       "      <th>No</th>\n",
       "      <td>109</td>\n",
       "    </tr>\n",
       "    <tr>\n",
       "      <th>Yes</th>\n",
       "      <td>28</td>\n",
       "    </tr>\n",
       "    <tr>\n",
       "      <th>Yes (W)</th>\n",
       "      <td>1</td>\n",
       "    </tr>\n",
       "  </tbody>\n",
       "</table>\n",
       "</div>"
      ],
      "text/plain": [
       "         Open_year_around\n",
       "No                    109\n",
       "Yes                    28\n",
       "Yes (W)                 1"
      ]
     },
     "execution_count": 24,
     "metadata": {},
     "output_type": "execute_result"
    }
   ],
   "source": [
    "FM_NYC['Open_year_around'].value_counts().to_frame()"
   ]
  },
  {
   "cell_type": "code",
   "execution_count": 28,
   "metadata": {},
   "outputs": [
    {
     "data": {
      "text/html": [
       "<div>\n",
       "<style scoped>\n",
       "    .dataframe tbody tr th:only-of-type {\n",
       "        vertical-align: middle;\n",
       "    }\n",
       "\n",
       "    .dataframe tbody tr th {\n",
       "        vertical-align: top;\n",
       "    }\n",
       "\n",
       "    .dataframe thead th {\n",
       "        text-align: right;\n",
       "    }\n",
       "</style>\n",
       "<table border=\"1\" class=\"dataframe\">\n",
       "  <thead>\n",
       "    <tr style=\"text-align: right;\">\n",
       "      <th></th>\n",
       "      <th>Borough</th>\n",
       "    </tr>\n",
       "  </thead>\n",
       "  <tbody>\n",
       "    <tr>\n",
       "      <th>Brooklyn</th>\n",
       "      <td>44</td>\n",
       "    </tr>\n",
       "    <tr>\n",
       "      <th>Manhattan</th>\n",
       "      <td>41</td>\n",
       "    </tr>\n",
       "    <tr>\n",
       "      <th>Bronx</th>\n",
       "      <td>27</td>\n",
       "    </tr>\n",
       "    <tr>\n",
       "      <th>Queens</th>\n",
       "      <td>22</td>\n",
       "    </tr>\n",
       "    <tr>\n",
       "      <th>Staten Island</th>\n",
       "      <td>4</td>\n",
       "    </tr>\n",
       "  </tbody>\n",
       "</table>\n",
       "</div>"
      ],
      "text/plain": [
       "               Borough\n",
       "Brooklyn            44\n",
       "Manhattan           41\n",
       "Bronx               27\n",
       "Queens              22\n",
       "Staten Island        4"
      ]
     },
     "execution_count": 28,
     "metadata": {},
     "output_type": "execute_result"
    }
   ],
   "source": [
    "FM_NYC['Borough'].value_counts().to_frame()"
   ]
  },
  {
   "cell_type": "code",
   "execution_count": 31,
   "metadata": {},
   "outputs": [
    {
     "data": {
      "image/png": "[encoded data removed]",
      "text/plain": [
       "<Figure size 576x576 with 1 Axes>"
      ]
     },
     "metadata": {
      "needs_background": "light"
     },
     "output_type": "display_data"
    }
   ],
   "source": [
    "fig,ax = plt.subplots(1, 1, figsize=(8, 8))\n",
    "sns.countplot(x='Borough',data=FM_NYC)\n",
    "ax.set_title(\"Borough\")\n",
    "for t in ax.patches:\n",
    "    if (np.isnan(float(t.get_height()))):\n",
    "        ax.annotate('', (t.get_x(), 0))\n",
    "    else:\n",
    "        ax.annotate(str(format(int(t.get_height()), ',d')), (t.get_x(), t.get_height()*1.01))\n",
    "    \n",
    "plt.show();"
   ]
  },
  {
   "cell_type": "code",
   "execution_count": null,
   "metadata": {},
   "outputs": [],
   "source": []
  }
 ],
 "metadata": {
  "kernelspec": {
   "display_name": "Python 3",
   "language": "python",
   "name": "python3"
  },
  "language_info": {
   "codemirror_mode": {
    "name": "ipython",
    "version": 3
   },
   "file_extension": ".py",
   "mimetype": "text/x-python",
   "name": "python",
   "nbconvert_exporter": "python",
   "pygments_lexer": "ipython3",
   "version": "3.7.6"
  }
 },
 "nbformat": 4,
 "nbformat_minor": 4
}
