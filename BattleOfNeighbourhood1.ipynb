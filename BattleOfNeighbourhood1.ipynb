{
 "cells": [
  {
   "cell_type": "markdown",
   "metadata": {},
   "source": [
    "# The Battle of Neighborhood Part-1\n",
    "\n",
    "Introduction:\n",
    "\n",
    "New York City , The most vibrant city with vast culture and trends. It provides a lot of opportunities to one. Many people are interested in opening up a restaurant there. It is the heart of, The United States of America. Many diverse cultures are present there which represent their respective countries. This is one of the main focus areas in this field as people crave food from their respective countries.\n",
    "As the city is famous for tourist attractions, world trade, media ,legal services , insurance , fashion industry, advertising and many other activities. This means that there is highly competitive market which demands high quality services, people even pay for the services however costly it might cost them. Starting a new business here should be evaluated and analyzed carefully. This will help assess all the risk and vulnerability factors, as from the business point of view a good return will be outcome.\n",
    "Problem description:\n",
    "\n",
    "Restaurant is a place which serves food to be ordered or ready-made food to its customers bearing to make profit after considering all the combing all the raw material which were used to prepare the dish. NYC has vast varieties of cultural and ethnic food belonging from various diversities.\n",
    "\n",
    "1.\tAsian Cruisne – It targets the Indian and Chinese Population at the most .Food such as curries, noodles and rice being their main staple.\n",
    "2.\tCentral and Eastern European immigrants, especially Jewish immigrants – breads, bagels, cheesecake, hot dogs.\n",
    "3.\tItalian immigrants – Targets the overall audience as it is a comforting food -Pizza and Pasta are really well known.\n",
    "4.\tJewish immigrants and Irish immigrants - pastrami and corned beef\n",
    "5.\tMobile food vendors -  2,000~ licensed by the city\n",
    "6.\tMiddle Eastern – Its mostly for people who are always on the rush and would like to grab a snack on the way. Falafel , Doners and Kebabs are the highlights.\n",
    "7.\tMichelin Star restaurants which are fine dining restaurants provide excellent quality of food and various al carte specialties.\n",
    "\n",
    "So a Strategic plan is needed to survive in a such a competitive market.\n",
    "Various factors need to be studied in order to decide on the Location such as:\n",
    "1.\tNYC Population.\n",
    "2.\tNYC Demographics.\n",
    "3.\tCost of obtaining ingredients, freshness of ingredients, organic and many other factors to make in outstanding from the others.   \n",
    "4.\tPrime location where a lot of people are expected to pass though and timings where people show up mostly.\n",
    "5.\tSurrounding Competitors.\n",
    "6.\tSegmentation of the Borough\n",
    "7.\tCost of renting or owning a place.\n",
    "8.\tInitial investments.\n",
    "\n",
    "These are some of the prime factors which are needed while starting a Restaurant.\n",
    "The data will be found of Foursquare which will be used to analyze on opening a restaurant.\n",
    "It will start out by choosing a location for the restaurant, this data can be sought out in various real estate websites. We need to find the target audience for this as opening a multi cruise place might lead to a downfall. Locating and obtaining ingredients in the most natural and easy way which should be cost effective. A place where a lot of people eat out during lunch hours, a metropolitan area preferably. Need to know who you will be against with and more so ever the quality of food. \n"
   ]
  }
 ],
 "metadata": {
  "kernelspec": {
   "display_name": "Python 3",
   "language": "python",
   "name": "python3"
  },
  "language_info": {
   "codemirror_mode": {
    "name": "ipython",
    "version": 3
   },
   "file_extension": ".py",
   "mimetype": "text/x-python",
   "name": "python",
   "nbconvert_exporter": "python",
   "pygments_lexer": "ipython3",
   "version": "3.6.10"
  }
 },
 "nbformat": 4,
 "nbformat_minor": 4
}
